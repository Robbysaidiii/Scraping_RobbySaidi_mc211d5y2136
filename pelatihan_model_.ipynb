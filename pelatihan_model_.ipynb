{
  "nbformat": 4,
  "nbformat_minor": 0,
  "metadata": {
    "colab": {
      "provenance": [],
      "authorship_tag": "ABX9TyMKAn7UOdTus75scPbCoWC8",
      "include_colab_link": true
    },
    "kernelspec": {
      "name": "python3",
      "display_name": "Python 3"
    },
    "language_info": {
      "name": "python"
    }
  },
  "cells": [
    {
      "cell_type": "markdown",
      "metadata": {
        "id": "view-in-github",
        "colab_type": "text"
      },
      "source": [
        "<a href=\"https://colab.research.google.com/github/Robbysaidiii/Scraping_RobbySaidi_mc211d5y2136/blob/main/pelatihan_model_.ipynb\" target=\"_parent\"><img src=\"https://colab.research.google.com/assets/colab-badge.svg\" alt=\"Open In Colab\"/></a>"
      ]
    },
    {
      "cell_type": "markdown",
      "source": [
        "## Import libarary yang dibutuhkn"
      ],
      "metadata": {
        "id": "EwD3_0W7foY1"
      }
    },
    {
      "cell_type": "code",
      "source": [
        "!pip install Sastrawi\n",
        "!pip install tensorflow\n",
        "!pip install swifter\n",
        "!pip install transformers\n",
        "!pip install textblob\n",
        "!pip install vaderSentiment"
      ],
      "metadata": {
        "colab": {
          "base_uri": "https://localhost:8080/"
        },
        "id": "yqbyy_Sk7quC",
        "outputId": "4d23c3ed-7837-4dc1-fa94-c08e81dadc42"
      },
      "execution_count": 1,
      "outputs": [
        {
          "output_type": "stream",
          "name": "stdout",
          "text": [
            "Collecting Sastrawi\n",
            "  Downloading Sastrawi-1.0.1-py2.py3-none-any.whl.metadata (909 bytes)\n",
            "Downloading Sastrawi-1.0.1-py2.py3-none-any.whl (209 kB)\n",
            "\u001b[?25l   \u001b[90m━━━━━━━━━━━━━━━━━━━━━━━━━━━━━━━━━━━━━━━━\u001b[0m \u001b[32m0.0/209.7 kB\u001b[0m \u001b[31m?\u001b[0m eta \u001b[36m-:--:--\u001b[0m\r\u001b[2K   \u001b[91m━━━━━━━━━━━━━━━━━━━━━━━━━━━\u001b[0m\u001b[90m╺\u001b[0m\u001b[90m━━━━━━━━━━━━\u001b[0m \u001b[32m143.4/209.7 kB\u001b[0m \u001b[31m4.1 MB/s\u001b[0m eta \u001b[36m0:00:01\u001b[0m\r\u001b[2K   \u001b[90m━━━━━━━━━━━━━━━━━━━━━━━━━━━━━━━━━━━━━━━━\u001b[0m \u001b[32m209.7/209.7 kB\u001b[0m \u001b[31m3.8 MB/s\u001b[0m eta \u001b[36m0:00:00\u001b[0m\n",
            "\u001b[?25hInstalling collected packages: Sastrawi\n",
            "Successfully installed Sastrawi-1.0.1\n",
            "Requirement already satisfied: tensorflow in /usr/local/lib/python3.11/dist-packages (2.18.0)\n",
            "Requirement already satisfied: absl-py>=1.0.0 in /usr/local/lib/python3.11/dist-packages (from tensorflow) (1.4.0)\n",
            "Requirement already satisfied: astunparse>=1.6.0 in /usr/local/lib/python3.11/dist-packages (from tensorflow) (1.6.3)\n",
            "Requirement already satisfied: flatbuffers>=24.3.25 in /usr/local/lib/python3.11/dist-packages (from tensorflow) (25.2.10)\n",
            "Requirement already satisfied: gast!=0.5.0,!=0.5.1,!=0.5.2,>=0.2.1 in /usr/local/lib/python3.11/dist-packages (from tensorflow) (0.6.0)\n",
            "Requirement already satisfied: google-pasta>=0.1.1 in /usr/local/lib/python3.11/dist-packages (from tensorflow) (0.2.0)\n",
            "Requirement already satisfied: libclang>=13.0.0 in /usr/local/lib/python3.11/dist-packages (from tensorflow) (18.1.1)\n",
            "Requirement already satisfied: opt-einsum>=2.3.2 in /usr/local/lib/python3.11/dist-packages (from tensorflow) (3.4.0)\n",
            "Requirement already satisfied: packaging in /usr/local/lib/python3.11/dist-packages (from tensorflow) (24.2)\n",
            "Requirement already satisfied: protobuf!=4.21.0,!=4.21.1,!=4.21.2,!=4.21.3,!=4.21.4,!=4.21.5,<6.0.0dev,>=3.20.3 in /usr/local/lib/python3.11/dist-packages (from tensorflow) (5.29.4)\n",
            "Requirement already satisfied: requests<3,>=2.21.0 in /usr/local/lib/python3.11/dist-packages (from tensorflow) (2.32.3)\n",
            "Requirement already satisfied: setuptools in /usr/local/lib/python3.11/dist-packages (from tensorflow) (75.2.0)\n",
            "Requirement already satisfied: six>=1.12.0 in /usr/local/lib/python3.11/dist-packages (from tensorflow) (1.17.0)\n",
            "Requirement already satisfied: termcolor>=1.1.0 in /usr/local/lib/python3.11/dist-packages (from tensorflow) (3.0.1)\n",
            "Requirement already satisfied: typing-extensions>=3.6.6 in /usr/local/lib/python3.11/dist-packages (from tensorflow) (4.13.1)\n",
            "Requirement already satisfied: wrapt>=1.11.0 in /usr/local/lib/python3.11/dist-packages (from tensorflow) (1.17.2)\n",
            "Requirement already satisfied: grpcio<2.0,>=1.24.3 in /usr/local/lib/python3.11/dist-packages (from tensorflow) (1.71.0)\n",
            "Requirement already satisfied: tensorboard<2.19,>=2.18 in /usr/local/lib/python3.11/dist-packages (from tensorflow) (2.18.0)\n",
            "Requirement already satisfied: keras>=3.5.0 in /usr/local/lib/python3.11/dist-packages (from tensorflow) (3.8.0)\n",
            "Requirement already satisfied: numpy<2.1.0,>=1.26.0 in /usr/local/lib/python3.11/dist-packages (from tensorflow) (2.0.2)\n",
            "Requirement already satisfied: h5py>=3.11.0 in /usr/local/lib/python3.11/dist-packages (from tensorflow) (3.13.0)\n",
            "Requirement already satisfied: ml-dtypes<0.5.0,>=0.4.0 in /usr/local/lib/python3.11/dist-packages (from tensorflow) (0.4.1)\n",
            "Requirement already satisfied: tensorflow-io-gcs-filesystem>=0.23.1 in /usr/local/lib/python3.11/dist-packages (from tensorflow) (0.37.1)\n",
            "Requirement already satisfied: wheel<1.0,>=0.23.0 in /usr/local/lib/python3.11/dist-packages (from astunparse>=1.6.0->tensorflow) (0.45.1)\n",
            "Requirement already satisfied: rich in /usr/local/lib/python3.11/dist-packages (from keras>=3.5.0->tensorflow) (13.9.4)\n",
            "Requirement already satisfied: namex in /usr/local/lib/python3.11/dist-packages (from keras>=3.5.0->tensorflow) (0.0.8)\n",
            "Requirement already satisfied: optree in /usr/local/lib/python3.11/dist-packages (from keras>=3.5.0->tensorflow) (0.14.1)\n",
            "Requirement already satisfied: charset-normalizer<4,>=2 in /usr/local/lib/python3.11/dist-packages (from requests<3,>=2.21.0->tensorflow) (3.4.1)\n",
            "Requirement already satisfied: idna<4,>=2.5 in /usr/local/lib/python3.11/dist-packages (from requests<3,>=2.21.0->tensorflow) (3.10)\n",
            "Requirement already satisfied: urllib3<3,>=1.21.1 in /usr/local/lib/python3.11/dist-packages (from requests<3,>=2.21.0->tensorflow) (2.3.0)\n",
            "Requirement already satisfied: certifi>=2017.4.17 in /usr/local/lib/python3.11/dist-packages (from requests<3,>=2.21.0->tensorflow) (2025.1.31)\n",
            "Requirement already satisfied: markdown>=2.6.8 in /usr/local/lib/python3.11/dist-packages (from tensorboard<2.19,>=2.18->tensorflow) (3.7)\n",
            "Requirement already satisfied: tensorboard-data-server<0.8.0,>=0.7.0 in /usr/local/lib/python3.11/dist-packages (from tensorboard<2.19,>=2.18->tensorflow) (0.7.2)\n",
            "Requirement already satisfied: werkzeug>=1.0.1 in /usr/local/lib/python3.11/dist-packages (from tensorboard<2.19,>=2.18->tensorflow) (3.1.3)\n",
            "Requirement already satisfied: MarkupSafe>=2.1.1 in /usr/local/lib/python3.11/dist-packages (from werkzeug>=1.0.1->tensorboard<2.19,>=2.18->tensorflow) (3.0.2)\n",
            "Requirement already satisfied: markdown-it-py>=2.2.0 in /usr/local/lib/python3.11/dist-packages (from rich->keras>=3.5.0->tensorflow) (3.0.0)\n",
            "Requirement already satisfied: pygments<3.0.0,>=2.13.0 in /usr/local/lib/python3.11/dist-packages (from rich->keras>=3.5.0->tensorflow) (2.18.0)\n",
            "Requirement already satisfied: mdurl~=0.1 in /usr/local/lib/python3.11/dist-packages (from markdown-it-py>=2.2.0->rich->keras>=3.5.0->tensorflow) (0.1.2)\n",
            "Collecting swifter\n",
            "  Downloading swifter-1.4.0.tar.gz (1.2 MB)\n",
            "\u001b[2K     \u001b[90m━━━━━━━━━━━━━━━━━━━━━━━━━━━━━━━━━━━━━━━━\u001b[0m \u001b[32m1.2/1.2 MB\u001b[0m \u001b[31m10.3 MB/s\u001b[0m eta \u001b[36m0:00:00\u001b[0m\n",
            "\u001b[?25h  Preparing metadata (setup.py) ... \u001b[?25l\u001b[?25hdone\n",
            "Requirement already satisfied: pandas>=1.0.0 in /usr/local/lib/python3.11/dist-packages (from swifter) (2.2.2)\n",
            "Requirement already satisfied: psutil>=5.6.6 in /usr/local/lib/python3.11/dist-packages (from swifter) (5.9.5)\n",
            "Requirement already satisfied: dask>=2.10.0 in /usr/local/lib/python3.11/dist-packages (from dask[dataframe]>=2.10.0->swifter) (2024.12.1)\n",
            "Requirement already satisfied: tqdm>=4.33.0 in /usr/local/lib/python3.11/dist-packages (from swifter) (4.67.1)\n",
            "Requirement already satisfied: click>=8.1 in /usr/local/lib/python3.11/dist-packages (from dask>=2.10.0->dask[dataframe]>=2.10.0->swifter) (8.1.8)\n",
            "Requirement already satisfied: cloudpickle>=3.0.0 in /usr/local/lib/python3.11/dist-packages (from dask>=2.10.0->dask[dataframe]>=2.10.0->swifter) (3.1.1)\n",
            "Requirement already satisfied: fsspec>=2021.09.0 in /usr/local/lib/python3.11/dist-packages (from dask>=2.10.0->dask[dataframe]>=2.10.0->swifter) (2025.3.2)\n",
            "Requirement already satisfied: packaging>=20.0 in /usr/local/lib/python3.11/dist-packages (from dask>=2.10.0->dask[dataframe]>=2.10.0->swifter) (24.2)\n",
            "Requirement already satisfied: partd>=1.4.0 in /usr/local/lib/python3.11/dist-packages (from dask>=2.10.0->dask[dataframe]>=2.10.0->swifter) (1.4.2)\n",
            "Requirement already satisfied: pyyaml>=5.3.1 in /usr/local/lib/python3.11/dist-packages (from dask>=2.10.0->dask[dataframe]>=2.10.0->swifter) (6.0.2)\n",
            "Requirement already satisfied: toolz>=0.10.0 in /usr/local/lib/python3.11/dist-packages (from dask>=2.10.0->dask[dataframe]>=2.10.0->swifter) (0.12.1)\n",
            "Requirement already satisfied: importlib_metadata>=4.13.0 in /usr/local/lib/python3.11/dist-packages (from dask>=2.10.0->dask[dataframe]>=2.10.0->swifter) (8.6.1)\n",
            "Requirement already satisfied: dask-expr<1.2,>=1.1 in /usr/local/lib/python3.11/dist-packages (from dask[dataframe]>=2.10.0->swifter) (1.1.21)\n",
            "Requirement already satisfied: numpy>=1.23.2 in /usr/local/lib/python3.11/dist-packages (from pandas>=1.0.0->swifter) (2.0.2)\n",
            "Requirement already satisfied: python-dateutil>=2.8.2 in /usr/local/lib/python3.11/dist-packages (from pandas>=1.0.0->swifter) (2.8.2)\n",
            "Requirement already satisfied: pytz>=2020.1 in /usr/local/lib/python3.11/dist-packages (from pandas>=1.0.0->swifter) (2025.2)\n",
            "Requirement already satisfied: tzdata>=2022.7 in /usr/local/lib/python3.11/dist-packages (from pandas>=1.0.0->swifter) (2025.2)\n",
            "Requirement already satisfied: pyarrow>=14.0.1 in /usr/local/lib/python3.11/dist-packages (from dask-expr<1.2,>=1.1->dask[dataframe]>=2.10.0->swifter) (18.1.0)\n",
            "Requirement already satisfied: zipp>=3.20 in /usr/local/lib/python3.11/dist-packages (from importlib_metadata>=4.13.0->dask>=2.10.0->dask[dataframe]>=2.10.0->swifter) (3.21.0)\n",
            "Requirement already satisfied: locket in /usr/local/lib/python3.11/dist-packages (from partd>=1.4.0->dask>=2.10.0->dask[dataframe]>=2.10.0->swifter) (1.0.0)\n",
            "Requirement already satisfied: six>=1.5 in /usr/local/lib/python3.11/dist-packages (from python-dateutil>=2.8.2->pandas>=1.0.0->swifter) (1.17.0)\n",
            "Building wheels for collected packages: swifter\n",
            "  Building wheel for swifter (setup.py) ... \u001b[?25l\u001b[?25hdone\n",
            "  Created wheel for swifter: filename=swifter-1.4.0-py3-none-any.whl size=16505 sha256=6a3c580f36c206a3924b97d32de8b8645b08787628b916fbe65b9ae9348f54dd\n",
            "  Stored in directory: /root/.cache/pip/wheels/ef/7f/bd/9bed48f078f3ee1fa75e0b29b6e0335ce1cb03a38d3443b3a3\n",
            "Successfully built swifter\n",
            "Installing collected packages: swifter\n",
            "Successfully installed swifter-1.4.0\n",
            "Requirement already satisfied: transformers in /usr/local/lib/python3.11/dist-packages (4.50.3)\n",
            "Requirement already satisfied: filelock in /usr/local/lib/python3.11/dist-packages (from transformers) (3.18.0)\n",
            "Requirement already satisfied: huggingface-hub<1.0,>=0.26.0 in /usr/local/lib/python3.11/dist-packages (from transformers) (0.30.1)\n",
            "Requirement already satisfied: numpy>=1.17 in /usr/local/lib/python3.11/dist-packages (from transformers) (2.0.2)\n",
            "Requirement already satisfied: packaging>=20.0 in /usr/local/lib/python3.11/dist-packages (from transformers) (24.2)\n",
            "Requirement already satisfied: pyyaml>=5.1 in /usr/local/lib/python3.11/dist-packages (from transformers) (6.0.2)\n",
            "Requirement already satisfied: regex!=2019.12.17 in /usr/local/lib/python3.11/dist-packages (from transformers) (2024.11.6)\n",
            "Requirement already satisfied: requests in /usr/local/lib/python3.11/dist-packages (from transformers) (2.32.3)\n",
            "Requirement already satisfied: tokenizers<0.22,>=0.21 in /usr/local/lib/python3.11/dist-packages (from transformers) (0.21.1)\n",
            "Requirement already satisfied: safetensors>=0.4.3 in /usr/local/lib/python3.11/dist-packages (from transformers) (0.5.3)\n",
            "Requirement already satisfied: tqdm>=4.27 in /usr/local/lib/python3.11/dist-packages (from transformers) (4.67.1)\n",
            "Requirement already satisfied: fsspec>=2023.5.0 in /usr/local/lib/python3.11/dist-packages (from huggingface-hub<1.0,>=0.26.0->transformers) (2025.3.2)\n",
            "Requirement already satisfied: typing-extensions>=3.7.4.3 in /usr/local/lib/python3.11/dist-packages (from huggingface-hub<1.0,>=0.26.0->transformers) (4.13.1)\n",
            "Requirement already satisfied: charset-normalizer<4,>=2 in /usr/local/lib/python3.11/dist-packages (from requests->transformers) (3.4.1)\n",
            "Requirement already satisfied: idna<4,>=2.5 in /usr/local/lib/python3.11/dist-packages (from requests->transformers) (3.10)\n",
            "Requirement already satisfied: urllib3<3,>=1.21.1 in /usr/local/lib/python3.11/dist-packages (from requests->transformers) (2.3.0)\n",
            "Requirement already satisfied: certifi>=2017.4.17 in /usr/local/lib/python3.11/dist-packages (from requests->transformers) (2025.1.31)\n",
            "Requirement already satisfied: textblob in /usr/local/lib/python3.11/dist-packages (0.19.0)\n",
            "Requirement already satisfied: nltk>=3.9 in /usr/local/lib/python3.11/dist-packages (from textblob) (3.9.1)\n",
            "Requirement already satisfied: click in /usr/local/lib/python3.11/dist-packages (from nltk>=3.9->textblob) (8.1.8)\n",
            "Requirement already satisfied: joblib in /usr/local/lib/python3.11/dist-packages (from nltk>=3.9->textblob) (1.4.2)\n",
            "Requirement already satisfied: regex>=2021.8.3 in /usr/local/lib/python3.11/dist-packages (from nltk>=3.9->textblob) (2024.11.6)\n",
            "Requirement already satisfied: tqdm in /usr/local/lib/python3.11/dist-packages (from nltk>=3.9->textblob) (4.67.1)\n",
            "Collecting vaderSentiment\n",
            "  Downloading vaderSentiment-3.3.2-py2.py3-none-any.whl.metadata (572 bytes)\n",
            "Requirement already satisfied: requests in /usr/local/lib/python3.11/dist-packages (from vaderSentiment) (2.32.3)\n",
            "Requirement already satisfied: charset-normalizer<4,>=2 in /usr/local/lib/python3.11/dist-packages (from requests->vaderSentiment) (3.4.1)\n",
            "Requirement already satisfied: idna<4,>=2.5 in /usr/local/lib/python3.11/dist-packages (from requests->vaderSentiment) (3.10)\n",
            "Requirement already satisfied: urllib3<3,>=1.21.1 in /usr/local/lib/python3.11/dist-packages (from requests->vaderSentiment) (2.3.0)\n",
            "Requirement already satisfied: certifi>=2017.4.17 in /usr/local/lib/python3.11/dist-packages (from requests->vaderSentiment) (2025.1.31)\n",
            "Downloading vaderSentiment-3.3.2-py2.py3-none-any.whl (125 kB)\n",
            "\u001b[2K   \u001b[90m━━━━━━━━━━━━━━━━━━━━━━━━━━━━━━━━━━━━━━━━\u001b[0m \u001b[32m126.0/126.0 kB\u001b[0m \u001b[31m2.9 MB/s\u001b[0m eta \u001b[36m0:00:00\u001b[0m\n",
            "\u001b[?25hInstalling collected packages: vaderSentiment\n",
            "Successfully installed vaderSentiment-3.3.2\n"
          ]
        }
      ]
    },
    {
      "cell_type": "code",
      "source": [
        "import pandas as pd\n",
        "import numpy as np\n",
        "import re\n",
        "import nltk\n",
        "from nltk.tokenize import word_tokenize\n",
        "from nltk.corpus import stopwords\n",
        "from Sastrawi.Stemmer.StemmerFactory import StemmerFactory\n",
        "from sklearn.model_selection import train_test_split\n",
        "from sklearn.preprocessing import LabelEncoder\n",
        "from sklearn.feature_extraction.text import TfidfVectorizer\n",
        "from tensorflow.keras.preprocessing.text import Tokenizer\n",
        "from tensorflow.keras.preprocessing.sequence import pad_sequences\n",
        "from tensorflow.keras.models import Sequential\n",
        "from tensorflow.keras.callbacks import Callback\n",
        "from Sastrawi.Stemmer.StemmerFactory import StemmerFactory\n",
        "from tensorflow.keras.layers import Embedding, LSTM, Dense, Dropout, Conv1D, GlobalMaxPooling1D, BatchNormalization\n",
        "from tensorflow.keras.callbacks import EarlyStopping, ModelCheckpoint\n",
        "from transformers import BertTokenizer, TFBertForSequenceClassification\n",
        "from tensorflow.keras.utils import to_categorical\n",
        "import matplotlib.pyplot as plt\n",
        "import tensorflow as tf\n",
        "import seaborn as sns\n",
        "import swifter\n",
        "from tqdm import tqdm\n",
        "from joblib import Parallel, delayed\n",
        "from textblob import TextBlob\n",
        "from vaderSentiment.vaderSentiment import SentimentIntensityAnalyzer\n"
      ],
      "metadata": {
        "id": "oluz34Drekbn"
      },
      "execution_count": 2,
      "outputs": []
    },
    {
      "cell_type": "code",
      "source": [
        "nltk.download('punkt_tab')\n",
        "nltk.download('stopwords')"
      ],
      "metadata": {
        "id": "UJvtEAx07nMy",
        "colab": {
          "base_uri": "https://localhost:8080/"
        },
        "outputId": "6ba93751-6c14-4262-a72c-78f32333dd67"
      },
      "execution_count": 3,
      "outputs": [
        {
          "output_type": "stream",
          "name": "stderr",
          "text": [
            "[nltk_data] Downloading package punkt_tab to /root/nltk_data...\n",
            "[nltk_data]   Unzipping tokenizers/punkt_tab.zip.\n",
            "[nltk_data] Downloading package stopwords to /root/nltk_data...\n",
            "[nltk_data]   Unzipping corpora/stopwords.zip.\n"
          ]
        },
        {
          "output_type": "execute_result",
          "data": {
            "text/plain": [
              "True"
            ]
          },
          "metadata": {},
          "execution_count": 3
        }
      ]
    },
    {
      "cell_type": "markdown",
      "source": [
        "# Memuat Dataset"
      ],
      "metadata": {
        "id": "-hMzC56Gf4Xo"
      }
    },
    {
      "cell_type": "code",
      "execution_count": 4,
      "metadata": {
        "id": "W6b62qnk_804",
        "colab": {
          "base_uri": "https://localhost:8080/"
        },
        "outputId": "a8736cb5-d116-4661-b021-bfbc1828e80a"
      },
      "outputs": [
        {
          "output_type": "stream",
          "name": "stdout",
          "text": [
            "Mounted at /content/drive\n"
          ]
        }
      ],
      "source": [
        "\n",
        "from google.colab import drive\n",
        "drive.mount('/content/drive')\n",
        "df=pd.read_csv('/content/drive/MyDrive/ulasan_aplikasi_twitter.csv')"
      ]
    },
    {
      "cell_type": "markdown",
      "source": [
        "# Exploratory Data Analysis (EDA)"
      ],
      "metadata": {
        "id": "3AkwfSJQgnWo"
      }
    },
    {
      "cell_type": "code",
      "source": [
        "df.head()"
      ],
      "metadata": {
        "id": "k-Walfx7hQmZ",
        "colab": {
          "base_uri": "https://localhost:8080/",
          "height": 206
        },
        "outputId": "0def3baf-c40e-456b-8e8c-4c35b9a8114d"
      },
      "execution_count": 5,
      "outputs": [
        {
          "output_type": "execute_result",
          "data": {
            "text/plain": [
              "          userName  Rating                                             Review  \\\n",
              "0  Pengguna Google       2  Banyak bug, jadi lemot (foto atau video sering...   \n",
              "1  Pengguna Google       1  Saya baru instal lagi x ini, mau login eh \"mem...   \n",
              "2  Pengguna Google       1  semenjak jadi X malah lemot, minta update seri...   \n",
              "3  Pengguna Google       4  Kok banyak video permasalahan dan lemot padaha...   \n",
              "4  Pengguna Google       5  Untuk pihak X, mohon tambahkan fitur \"juga bis...   \n",
              "\n",
              "               Tanggal  \n",
              "0  2025-03-11 15:06:40  \n",
              "1  2025-03-10 14:18:48  \n",
              "2  2025-02-04 22:06:28  \n",
              "3  2025-01-15 13:22:01  \n",
              "4  2025-03-04 18:53:12  "
            ],
            "text/html": [
              "\n",
              "  <div id=\"df-22ca5068-3fdf-4ab6-b90d-ec9a34468c28\" class=\"colab-df-container\">\n",
              "    <div>\n",
              "<style scoped>\n",
              "    .dataframe tbody tr th:only-of-type {\n",
              "        vertical-align: middle;\n",
              "    }\n",
              "\n",
              "    .dataframe tbody tr th {\n",
              "        vertical-align: top;\n",
              "    }\n",
              "\n",
              "    .dataframe thead th {\n",
              "        text-align: right;\n",
              "    }\n",
              "</style>\n",
              "<table border=\"1\" class=\"dataframe\">\n",
              "  <thead>\n",
              "    <tr style=\"text-align: right;\">\n",
              "      <th></th>\n",
              "      <th>userName</th>\n",
              "      <th>Rating</th>\n",
              "      <th>Review</th>\n",
              "      <th>Tanggal</th>\n",
              "    </tr>\n",
              "  </thead>\n",
              "  <tbody>\n",
              "    <tr>\n",
              "      <th>0</th>\n",
              "      <td>Pengguna Google</td>\n",
              "      <td>2</td>\n",
              "      <td>Banyak bug, jadi lemot (foto atau video sering...</td>\n",
              "      <td>2025-03-11 15:06:40</td>\n",
              "    </tr>\n",
              "    <tr>\n",
              "      <th>1</th>\n",
              "      <td>Pengguna Google</td>\n",
              "      <td>1</td>\n",
              "      <td>Saya baru instal lagi x ini, mau login eh \"mem...</td>\n",
              "      <td>2025-03-10 14:18:48</td>\n",
              "    </tr>\n",
              "    <tr>\n",
              "      <th>2</th>\n",
              "      <td>Pengguna Google</td>\n",
              "      <td>1</td>\n",
              "      <td>semenjak jadi X malah lemot, minta update seri...</td>\n",
              "      <td>2025-02-04 22:06:28</td>\n",
              "    </tr>\n",
              "    <tr>\n",
              "      <th>3</th>\n",
              "      <td>Pengguna Google</td>\n",
              "      <td>4</td>\n",
              "      <td>Kok banyak video permasalahan dan lemot padaha...</td>\n",
              "      <td>2025-01-15 13:22:01</td>\n",
              "    </tr>\n",
              "    <tr>\n",
              "      <th>4</th>\n",
              "      <td>Pengguna Google</td>\n",
              "      <td>5</td>\n",
              "      <td>Untuk pihak X, mohon tambahkan fitur \"juga bis...</td>\n",
              "      <td>2025-03-04 18:53:12</td>\n",
              "    </tr>\n",
              "  </tbody>\n",
              "</table>\n",
              "</div>\n",
              "    <div class=\"colab-df-buttons\">\n",
              "\n",
              "  <div class=\"colab-df-container\">\n",
              "    <button class=\"colab-df-convert\" onclick=\"convertToInteractive('df-22ca5068-3fdf-4ab6-b90d-ec9a34468c28')\"\n",
              "            title=\"Convert this dataframe to an interactive table.\"\n",
              "            style=\"display:none;\">\n",
              "\n",
              "  <svg xmlns=\"http://www.w3.org/2000/svg\" height=\"24px\" viewBox=\"0 -960 960 960\">\n",
              "    <path d=\"M120-120v-720h720v720H120Zm60-500h600v-160H180v160Zm220 220h160v-160H400v160Zm0 220h160v-160H400v160ZM180-400h160v-160H180v160Zm440 0h160v-160H620v160ZM180-180h160v-160H180v160Zm440 0h160v-160H620v160Z\"/>\n",
              "  </svg>\n",
              "    </button>\n",
              "\n",
              "  <style>\n",
              "    .colab-df-container {\n",
              "      display:flex;\n",
              "      gap: 12px;\n",
              "    }\n",
              "\n",
              "    .colab-df-convert {\n",
              "      background-color: #E8F0FE;\n",
              "      border: none;\n",
              "      border-radius: 50%;\n",
              "      cursor: pointer;\n",
              "      display: none;\n",
              "      fill: #1967D2;\n",
              "      height: 32px;\n",
              "      padding: 0 0 0 0;\n",
              "      width: 32px;\n",
              "    }\n",
              "\n",
              "    .colab-df-convert:hover {\n",
              "      background-color: #E2EBFA;\n",
              "      box-shadow: 0px 1px 2px rgba(60, 64, 67, 0.3), 0px 1px 3px 1px rgba(60, 64, 67, 0.15);\n",
              "      fill: #174EA6;\n",
              "    }\n",
              "\n",
              "    .colab-df-buttons div {\n",
              "      margin-bottom: 4px;\n",
              "    }\n",
              "\n",
              "    [theme=dark] .colab-df-convert {\n",
              "      background-color: #3B4455;\n",
              "      fill: #D2E3FC;\n",
              "    }\n",
              "\n",
              "    [theme=dark] .colab-df-convert:hover {\n",
              "      background-color: #434B5C;\n",
              "      box-shadow: 0px 1px 3px 1px rgba(0, 0, 0, 0.15);\n",
              "      filter: drop-shadow(0px 1px 2px rgba(0, 0, 0, 0.3));\n",
              "      fill: #FFFFFF;\n",
              "    }\n",
              "  </style>\n",
              "\n",
              "    <script>\n",
              "      const buttonEl =\n",
              "        document.querySelector('#df-22ca5068-3fdf-4ab6-b90d-ec9a34468c28 button.colab-df-convert');\n",
              "      buttonEl.style.display =\n",
              "        google.colab.kernel.accessAllowed ? 'block' : 'none';\n",
              "\n",
              "      async function convertToInteractive(key) {\n",
              "        const element = document.querySelector('#df-22ca5068-3fdf-4ab6-b90d-ec9a34468c28');\n",
              "        const dataTable =\n",
              "          await google.colab.kernel.invokeFunction('convertToInteractive',\n",
              "                                                    [key], {});\n",
              "        if (!dataTable) return;\n",
              "\n",
              "        const docLinkHtml = 'Like what you see? Visit the ' +\n",
              "          '<a target=\"_blank\" href=https://colab.research.google.com/notebooks/data_table.ipynb>data table notebook</a>'\n",
              "          + ' to learn more about interactive tables.';\n",
              "        element.innerHTML = '';\n",
              "        dataTable['output_type'] = 'display_data';\n",
              "        await google.colab.output.renderOutput(dataTable, element);\n",
              "        const docLink = document.createElement('div');\n",
              "        docLink.innerHTML = docLinkHtml;\n",
              "        element.appendChild(docLink);\n",
              "      }\n",
              "    </script>\n",
              "  </div>\n",
              "\n",
              "\n",
              "<div id=\"df-f1794613-a7f8-4c2a-b814-97f0b8de3eab\">\n",
              "  <button class=\"colab-df-quickchart\" onclick=\"quickchart('df-f1794613-a7f8-4c2a-b814-97f0b8de3eab')\"\n",
              "            title=\"Suggest charts\"\n",
              "            style=\"display:none;\">\n",
              "\n",
              "<svg xmlns=\"http://www.w3.org/2000/svg\" height=\"24px\"viewBox=\"0 0 24 24\"\n",
              "     width=\"24px\">\n",
              "    <g>\n",
              "        <path d=\"M19 3H5c-1.1 0-2 .9-2 2v14c0 1.1.9 2 2 2h14c1.1 0 2-.9 2-2V5c0-1.1-.9-2-2-2zM9 17H7v-7h2v7zm4 0h-2V7h2v10zm4 0h-2v-4h2v4z\"/>\n",
              "    </g>\n",
              "</svg>\n",
              "  </button>\n",
              "\n",
              "<style>\n",
              "  .colab-df-quickchart {\n",
              "      --bg-color: #E8F0FE;\n",
              "      --fill-color: #1967D2;\n",
              "      --hover-bg-color: #E2EBFA;\n",
              "      --hover-fill-color: #174EA6;\n",
              "      --disabled-fill-color: #AAA;\n",
              "      --disabled-bg-color: #DDD;\n",
              "  }\n",
              "\n",
              "  [theme=dark] .colab-df-quickchart {\n",
              "      --bg-color: #3B4455;\n",
              "      --fill-color: #D2E3FC;\n",
              "      --hover-bg-color: #434B5C;\n",
              "      --hover-fill-color: #FFFFFF;\n",
              "      --disabled-bg-color: #3B4455;\n",
              "      --disabled-fill-color: #666;\n",
              "  }\n",
              "\n",
              "  .colab-df-quickchart {\n",
              "    background-color: var(--bg-color);\n",
              "    border: none;\n",
              "    border-radius: 50%;\n",
              "    cursor: pointer;\n",
              "    display: none;\n",
              "    fill: var(--fill-color);\n",
              "    height: 32px;\n",
              "    padding: 0;\n",
              "    width: 32px;\n",
              "  }\n",
              "\n",
              "  .colab-df-quickchart:hover {\n",
              "    background-color: var(--hover-bg-color);\n",
              "    box-shadow: 0 1px 2px rgba(60, 64, 67, 0.3), 0 1px 3px 1px rgba(60, 64, 67, 0.15);\n",
              "    fill: var(--button-hover-fill-color);\n",
              "  }\n",
              "\n",
              "  .colab-df-quickchart-complete:disabled,\n",
              "  .colab-df-quickchart-complete:disabled:hover {\n",
              "    background-color: var(--disabled-bg-color);\n",
              "    fill: var(--disabled-fill-color);\n",
              "    box-shadow: none;\n",
              "  }\n",
              "\n",
              "  .colab-df-spinner {\n",
              "    border: 2px solid var(--fill-color);\n",
              "    border-color: transparent;\n",
              "    border-bottom-color: var(--fill-color);\n",
              "    animation:\n",
              "      spin 1s steps(1) infinite;\n",
              "  }\n",
              "\n",
              "  @keyframes spin {\n",
              "    0% {\n",
              "      border-color: transparent;\n",
              "      border-bottom-color: var(--fill-color);\n",
              "      border-left-color: var(--fill-color);\n",
              "    }\n",
              "    20% {\n",
              "      border-color: transparent;\n",
              "      border-left-color: var(--fill-color);\n",
              "      border-top-color: var(--fill-color);\n",
              "    }\n",
              "    30% {\n",
              "      border-color: transparent;\n",
              "      border-left-color: var(--fill-color);\n",
              "      border-top-color: var(--fill-color);\n",
              "      border-right-color: var(--fill-color);\n",
              "    }\n",
              "    40% {\n",
              "      border-color: transparent;\n",
              "      border-right-color: var(--fill-color);\n",
              "      border-top-color: var(--fill-color);\n",
              "    }\n",
              "    60% {\n",
              "      border-color: transparent;\n",
              "      border-right-color: var(--fill-color);\n",
              "    }\n",
              "    80% {\n",
              "      border-color: transparent;\n",
              "      border-right-color: var(--fill-color);\n",
              "      border-bottom-color: var(--fill-color);\n",
              "    }\n",
              "    90% {\n",
              "      border-color: transparent;\n",
              "      border-bottom-color: var(--fill-color);\n",
              "    }\n",
              "  }\n",
              "</style>\n",
              "\n",
              "  <script>\n",
              "    async function quickchart(key) {\n",
              "      const quickchartButtonEl =\n",
              "        document.querySelector('#' + key + ' button');\n",
              "      quickchartButtonEl.disabled = true;  // To prevent multiple clicks.\n",
              "      quickchartButtonEl.classList.add('colab-df-spinner');\n",
              "      try {\n",
              "        const charts = await google.colab.kernel.invokeFunction(\n",
              "            'suggestCharts', [key], {});\n",
              "      } catch (error) {\n",
              "        console.error('Error during call to suggestCharts:', error);\n",
              "      }\n",
              "      quickchartButtonEl.classList.remove('colab-df-spinner');\n",
              "      quickchartButtonEl.classList.add('colab-df-quickchart-complete');\n",
              "    }\n",
              "    (() => {\n",
              "      let quickchartButtonEl =\n",
              "        document.querySelector('#df-f1794613-a7f8-4c2a-b814-97f0b8de3eab button');\n",
              "      quickchartButtonEl.style.display =\n",
              "        google.colab.kernel.accessAllowed ? 'block' : 'none';\n",
              "    })();\n",
              "  </script>\n",
              "</div>\n",
              "\n",
              "    </div>\n",
              "  </div>\n"
            ],
            "application/vnd.google.colaboratory.intrinsic+json": {
              "type": "dataframe",
              "variable_name": "df",
              "summary": "{\n  \"name\": \"df\",\n  \"rows\": 11111,\n  \"fields\": [\n    {\n      \"column\": \"userName\",\n      \"properties\": {\n        \"dtype\": \"category\",\n        \"num_unique_values\": 1,\n        \"samples\": [\n          \"Pengguna Google\"\n        ],\n        \"semantic_type\": \"\",\n        \"description\": \"\"\n      }\n    },\n    {\n      \"column\": \"Rating\",\n      \"properties\": {\n        \"dtype\": \"number\",\n        \"std\": 1,\n        \"min\": 1,\n        \"max\": 5,\n        \"num_unique_values\": 5,\n        \"samples\": [\n          1\n        ],\n        \"semantic_type\": \"\",\n        \"description\": \"\"\n      }\n    },\n    {\n      \"column\": \"Review\",\n      \"properties\": {\n        \"dtype\": \"string\",\n        \"num_unique_values\": 11101,\n        \"samples\": [\n          \"Kapasitas jumlah karakter untuk postingan teks masih dibatasi, tidak adanya fitur siaran langsung,\"\n        ],\n        \"semantic_type\": \"\",\n        \"description\": \"\"\n      }\n    },\n    {\n      \"column\": \"Tanggal\",\n      \"properties\": {\n        \"dtype\": \"object\",\n        \"num_unique_values\": 11107,\n        \"samples\": [\n          \"2018-10-15 15:00:32\"\n        ],\n        \"semantic_type\": \"\",\n        \"description\": \"\"\n      }\n    }\n  ]\n}"
            }
          },
          "metadata": {},
          "execution_count": 5
        }
      ]
    },
    {
      "cell_type": "markdown",
      "source": [
        "dari dataframe diatas terdapat username, rating,review , tanggal\n",
        "\n",
        "1.  (username) hanya berisi Pengguna Google yang artinya google menyembunyikan nama penggunna\n",
        "\n",
        "2.   (Rating) memberika bintang sesuai dengan permasalahan user\n",
        "\n",
        "3.  (Review) sebuah ekspersi user saat menggunkan aplikasi x/Twitter\n",
        "\n",
        "4.  (Tanggal) setiap user yag memberika review dan rting akan tercatat tanggalnya\n",
        "\n"
      ],
      "metadata": {
        "id": "dgK3f0Iahvza"
      }
    },
    {
      "cell_type": "code",
      "source": [
        "df.info()"
      ],
      "metadata": {
        "id": "0HOB4OlzhWEm",
        "colab": {
          "base_uri": "https://localhost:8080/"
        },
        "outputId": "b49cbccf-13e5-4f59-f60d-ce990f4bb11c"
      },
      "execution_count": 6,
      "outputs": [
        {
          "output_type": "stream",
          "name": "stdout",
          "text": [
            "<class 'pandas.core.frame.DataFrame'>\n",
            "RangeIndex: 11111 entries, 0 to 11110\n",
            "Data columns (total 4 columns):\n",
            " #   Column    Non-Null Count  Dtype \n",
            "---  ------    --------------  ----- \n",
            " 0   userName  11111 non-null  object\n",
            " 1   Rating    11111 non-null  int64 \n",
            " 2   Review    11111 non-null  object\n",
            " 3   Tanggal   11111 non-null  object\n",
            "dtypes: int64(1), object(3)\n",
            "memory usage: 347.3+ KB\n"
          ]
        }
      ]
    },
    {
      "cell_type": "markdown",
      "source": [
        "dari dataframe diatas terdapat 11110 data yang berisi 4 kolom dengan tipe data 3 object dan 1 int64.... ridak ada yang missing value"
      ],
      "metadata": {
        "id": "ekd73YyjmE6i"
      }
    },
    {
      "cell_type": "code",
      "source": [
        "df['Rating'].value_counts()\n",
        "df['userName'].nunique()"
      ],
      "metadata": {
        "id": "a6KtxC8Nve-S",
        "colab": {
          "base_uri": "https://localhost:8080/"
        },
        "outputId": "cc9be841-3d12-4baa-82f4-f1a2f3671afd"
      },
      "execution_count": 7,
      "outputs": [
        {
          "output_type": "execute_result",
          "data": {
            "text/plain": [
              "1"
            ]
          },
          "metadata": {},
          "execution_count": 7
        }
      ]
    },
    {
      "cell_type": "code",
      "source": [
        "df.shape"
      ],
      "metadata": {
        "id": "SmCO6rLU8r8N",
        "colab": {
          "base_uri": "https://localhost:8080/"
        },
        "outputId": "90227fa6-c0ee-4bec-8c12-75dae0820f8a"
      },
      "execution_count": 8,
      "outputs": [
        {
          "output_type": "execute_result",
          "data": {
            "text/plain": [
              "(11111, 4)"
            ]
          },
          "metadata": {},
          "execution_count": 8
        }
      ]
    },
    {
      "cell_type": "code",
      "source": [
        "df.Review.duplicated().sum()\n",
        "df.userName.duplicated().sum()"
      ],
      "metadata": {
        "id": "r5b3siTh8z9e",
        "colab": {
          "base_uri": "https://localhost:8080/"
        },
        "outputId": "75181ce3-c4f5-4fcc-d3f7-f58f00d2afe1"
      },
      "execution_count": 9,
      "outputs": [
        {
          "output_type": "execute_result",
          "data": {
            "text/plain": [
              "np.int64(11110)"
            ]
          },
          "metadata": {},
          "execution_count": 9
        }
      ]
    },
    {
      "cell_type": "markdown",
      "source": [
        "karna di dalam username semua nya sama jadi terkena duplikat tapi saya tidak hapus duplikat karna sangat penting untuk analisis"
      ],
      "metadata": {
        "id": "X6n4MCCN96K2"
      }
    },
    {
      "cell_type": "code",
      "source": [
        "df.describe(include='all')"
      ],
      "metadata": {
        "id": "57rtnrRcm_5y",
        "colab": {
          "base_uri": "https://localhost:8080/",
          "height": 395
        },
        "outputId": "4aae9d25-93db-46c1-91af-632e2ed1f2fa"
      },
      "execution_count": 10,
      "outputs": [
        {
          "output_type": "execute_result",
          "data": {
            "text/plain": [
              "               userName        Rating           Review              Tanggal\n",
              "count             11111  11111.000000            11111                11111\n",
              "unique                1           NaN            11101                11107\n",
              "top     Pengguna Google           NaN  Sangat membantu  2025-03-11 10:43:31\n",
              "freq              11111           NaN                3                    2\n",
              "mean                NaN      1.988480              NaN                  NaN\n",
              "std                 NaN      1.433322              NaN                  NaN\n",
              "min                 NaN      1.000000              NaN                  NaN\n",
              "25%                 NaN      1.000000              NaN                  NaN\n",
              "50%                 NaN      1.000000              NaN                  NaN\n",
              "75%                 NaN      3.000000              NaN                  NaN\n",
              "max                 NaN      5.000000              NaN                  NaN"
            ],
            "text/html": [
              "\n",
              "  <div id=\"df-98af22b1-c09d-4def-bcc1-99e94d991fbf\" class=\"colab-df-container\">\n",
              "    <div>\n",
              "<style scoped>\n",
              "    .dataframe tbody tr th:only-of-type {\n",
              "        vertical-align: middle;\n",
              "    }\n",
              "\n",
              "    .dataframe tbody tr th {\n",
              "        vertical-align: top;\n",
              "    }\n",
              "\n",
              "    .dataframe thead th {\n",
              "        text-align: right;\n",
              "    }\n",
              "</style>\n",
              "<table border=\"1\" class=\"dataframe\">\n",
              "  <thead>\n",
              "    <tr style=\"text-align: right;\">\n",
              "      <th></th>\n",
              "      <th>userName</th>\n",
              "      <th>Rating</th>\n",
              "      <th>Review</th>\n",
              "      <th>Tanggal</th>\n",
              "    </tr>\n",
              "  </thead>\n",
              "  <tbody>\n",
              "    <tr>\n",
              "      <th>count</th>\n",
              "      <td>11111</td>\n",
              "      <td>11111.000000</td>\n",
              "      <td>11111</td>\n",
              "      <td>11111</td>\n",
              "    </tr>\n",
              "    <tr>\n",
              "      <th>unique</th>\n",
              "      <td>1</td>\n",
              "      <td>NaN</td>\n",
              "      <td>11101</td>\n",
              "      <td>11107</td>\n",
              "    </tr>\n",
              "    <tr>\n",
              "      <th>top</th>\n",
              "      <td>Pengguna Google</td>\n",
              "      <td>NaN</td>\n",
              "      <td>Sangat membantu</td>\n",
              "      <td>2025-03-11 10:43:31</td>\n",
              "    </tr>\n",
              "    <tr>\n",
              "      <th>freq</th>\n",
              "      <td>11111</td>\n",
              "      <td>NaN</td>\n",
              "      <td>3</td>\n",
              "      <td>2</td>\n",
              "    </tr>\n",
              "    <tr>\n",
              "      <th>mean</th>\n",
              "      <td>NaN</td>\n",
              "      <td>1.988480</td>\n",
              "      <td>NaN</td>\n",
              "      <td>NaN</td>\n",
              "    </tr>\n",
              "    <tr>\n",
              "      <th>std</th>\n",
              "      <td>NaN</td>\n",
              "      <td>1.433322</td>\n",
              "      <td>NaN</td>\n",
              "      <td>NaN</td>\n",
              "    </tr>\n",
              "    <tr>\n",
              "      <th>min</th>\n",
              "      <td>NaN</td>\n",
              "      <td>1.000000</td>\n",
              "      <td>NaN</td>\n",
              "      <td>NaN</td>\n",
              "    </tr>\n",
              "    <tr>\n",
              "      <th>25%</th>\n",
              "      <td>NaN</td>\n",
              "      <td>1.000000</td>\n",
              "      <td>NaN</td>\n",
              "      <td>NaN</td>\n",
              "    </tr>\n",
              "    <tr>\n",
              "      <th>50%</th>\n",
              "      <td>NaN</td>\n",
              "      <td>1.000000</td>\n",
              "      <td>NaN</td>\n",
              "      <td>NaN</td>\n",
              "    </tr>\n",
              "    <tr>\n",
              "      <th>75%</th>\n",
              "      <td>NaN</td>\n",
              "      <td>3.000000</td>\n",
              "      <td>NaN</td>\n",
              "      <td>NaN</td>\n",
              "    </tr>\n",
              "    <tr>\n",
              "      <th>max</th>\n",
              "      <td>NaN</td>\n",
              "      <td>5.000000</td>\n",
              "      <td>NaN</td>\n",
              "      <td>NaN</td>\n",
              "    </tr>\n",
              "  </tbody>\n",
              "</table>\n",
              "</div>\n",
              "    <div class=\"colab-df-buttons\">\n",
              "\n",
              "  <div class=\"colab-df-container\">\n",
              "    <button class=\"colab-df-convert\" onclick=\"convertToInteractive('df-98af22b1-c09d-4def-bcc1-99e94d991fbf')\"\n",
              "            title=\"Convert this dataframe to an interactive table.\"\n",
              "            style=\"display:none;\">\n",
              "\n",
              "  <svg xmlns=\"http://www.w3.org/2000/svg\" height=\"24px\" viewBox=\"0 -960 960 960\">\n",
              "    <path d=\"M120-120v-720h720v720H120Zm60-500h600v-160H180v160Zm220 220h160v-160H400v160Zm0 220h160v-160H400v160ZM180-400h160v-160H180v160Zm440 0h160v-160H620v160ZM180-180h160v-160H180v160Zm440 0h160v-160H620v160Z\"/>\n",
              "  </svg>\n",
              "    </button>\n",
              "\n",
              "  <style>\n",
              "    .colab-df-container {\n",
              "      display:flex;\n",
              "      gap: 12px;\n",
              "    }\n",
              "\n",
              "    .colab-df-convert {\n",
              "      background-color: #E8F0FE;\n",
              "      border: none;\n",
              "      border-radius: 50%;\n",
              "      cursor: pointer;\n",
              "      display: none;\n",
              "      fill: #1967D2;\n",
              "      height: 32px;\n",
              "      padding: 0 0 0 0;\n",
              "      width: 32px;\n",
              "    }\n",
              "\n",
              "    .colab-df-convert:hover {\n",
              "      background-color: #E2EBFA;\n",
              "      box-shadow: 0px 1px 2px rgba(60, 64, 67, 0.3), 0px 1px 3px 1px rgba(60, 64, 67, 0.15);\n",
              "      fill: #174EA6;\n",
              "    }\n",
              "\n",
              "    .colab-df-buttons div {\n",
              "      margin-bottom: 4px;\n",
              "    }\n",
              "\n",
              "    [theme=dark] .colab-df-convert {\n",
              "      background-color: #3B4455;\n",
              "      fill: #D2E3FC;\n",
              "    }\n",
              "\n",
              "    [theme=dark] .colab-df-convert:hover {\n",
              "      background-color: #434B5C;\n",
              "      box-shadow: 0px 1px 3px 1px rgba(0, 0, 0, 0.15);\n",
              "      filter: drop-shadow(0px 1px 2px rgba(0, 0, 0, 0.3));\n",
              "      fill: #FFFFFF;\n",
              "    }\n",
              "  </style>\n",
              "\n",
              "    <script>\n",
              "      const buttonEl =\n",
              "        document.querySelector('#df-98af22b1-c09d-4def-bcc1-99e94d991fbf button.colab-df-convert');\n",
              "      buttonEl.style.display =\n",
              "        google.colab.kernel.accessAllowed ? 'block' : 'none';\n",
              "\n",
              "      async function convertToInteractive(key) {\n",
              "        const element = document.querySelector('#df-98af22b1-c09d-4def-bcc1-99e94d991fbf');\n",
              "        const dataTable =\n",
              "          await google.colab.kernel.invokeFunction('convertToInteractive',\n",
              "                                                    [key], {});\n",
              "        if (!dataTable) return;\n",
              "\n",
              "        const docLinkHtml = 'Like what you see? Visit the ' +\n",
              "          '<a target=\"_blank\" href=https://colab.research.google.com/notebooks/data_table.ipynb>data table notebook</a>'\n",
              "          + ' to learn more about interactive tables.';\n",
              "        element.innerHTML = '';\n",
              "        dataTable['output_type'] = 'display_data';\n",
              "        await google.colab.output.renderOutput(dataTable, element);\n",
              "        const docLink = document.createElement('div');\n",
              "        docLink.innerHTML = docLinkHtml;\n",
              "        element.appendChild(docLink);\n",
              "      }\n",
              "    </script>\n",
              "  </div>\n",
              "\n",
              "\n",
              "<div id=\"df-c1609ceb-a739-495f-9c32-829b3c3b22ed\">\n",
              "  <button class=\"colab-df-quickchart\" onclick=\"quickchart('df-c1609ceb-a739-495f-9c32-829b3c3b22ed')\"\n",
              "            title=\"Suggest charts\"\n",
              "            style=\"display:none;\">\n",
              "\n",
              "<svg xmlns=\"http://www.w3.org/2000/svg\" height=\"24px\"viewBox=\"0 0 24 24\"\n",
              "     width=\"24px\">\n",
              "    <g>\n",
              "        <path d=\"M19 3H5c-1.1 0-2 .9-2 2v14c0 1.1.9 2 2 2h14c1.1 0 2-.9 2-2V5c0-1.1-.9-2-2-2zM9 17H7v-7h2v7zm4 0h-2V7h2v10zm4 0h-2v-4h2v4z\"/>\n",
              "    </g>\n",
              "</svg>\n",
              "  </button>\n",
              "\n",
              "<style>\n",
              "  .colab-df-quickchart {\n",
              "      --bg-color: #E8F0FE;\n",
              "      --fill-color: #1967D2;\n",
              "      --hover-bg-color: #E2EBFA;\n",
              "      --hover-fill-color: #174EA6;\n",
              "      --disabled-fill-color: #AAA;\n",
              "      --disabled-bg-color: #DDD;\n",
              "  }\n",
              "\n",
              "  [theme=dark] .colab-df-quickchart {\n",
              "      --bg-color: #3B4455;\n",
              "      --fill-color: #D2E3FC;\n",
              "      --hover-bg-color: #434B5C;\n",
              "      --hover-fill-color: #FFFFFF;\n",
              "      --disabled-bg-color: #3B4455;\n",
              "      --disabled-fill-color: #666;\n",
              "  }\n",
              "\n",
              "  .colab-df-quickchart {\n",
              "    background-color: var(--bg-color);\n",
              "    border: none;\n",
              "    border-radius: 50%;\n",
              "    cursor: pointer;\n",
              "    display: none;\n",
              "    fill: var(--fill-color);\n",
              "    height: 32px;\n",
              "    padding: 0;\n",
              "    width: 32px;\n",
              "  }\n",
              "\n",
              "  .colab-df-quickchart:hover {\n",
              "    background-color: var(--hover-bg-color);\n",
              "    box-shadow: 0 1px 2px rgba(60, 64, 67, 0.3), 0 1px 3px 1px rgba(60, 64, 67, 0.15);\n",
              "    fill: var(--button-hover-fill-color);\n",
              "  }\n",
              "\n",
              "  .colab-df-quickchart-complete:disabled,\n",
              "  .colab-df-quickchart-complete:disabled:hover {\n",
              "    background-color: var(--disabled-bg-color);\n",
              "    fill: var(--disabled-fill-color);\n",
              "    box-shadow: none;\n",
              "  }\n",
              "\n",
              "  .colab-df-spinner {\n",
              "    border: 2px solid var(--fill-color);\n",
              "    border-color: transparent;\n",
              "    border-bottom-color: var(--fill-color);\n",
              "    animation:\n",
              "      spin 1s steps(1) infinite;\n",
              "  }\n",
              "\n",
              "  @keyframes spin {\n",
              "    0% {\n",
              "      border-color: transparent;\n",
              "      border-bottom-color: var(--fill-color);\n",
              "      border-left-color: var(--fill-color);\n",
              "    }\n",
              "    20% {\n",
              "      border-color: transparent;\n",
              "      border-left-color: var(--fill-color);\n",
              "      border-top-color: var(--fill-color);\n",
              "    }\n",
              "    30% {\n",
              "      border-color: transparent;\n",
              "      border-left-color: var(--fill-color);\n",
              "      border-top-color: var(--fill-color);\n",
              "      border-right-color: var(--fill-color);\n",
              "    }\n",
              "    40% {\n",
              "      border-color: transparent;\n",
              "      border-right-color: var(--fill-color);\n",
              "      border-top-color: var(--fill-color);\n",
              "    }\n",
              "    60% {\n",
              "      border-color: transparent;\n",
              "      border-right-color: var(--fill-color);\n",
              "    }\n",
              "    80% {\n",
              "      border-color: transparent;\n",
              "      border-right-color: var(--fill-color);\n",
              "      border-bottom-color: var(--fill-color);\n",
              "    }\n",
              "    90% {\n",
              "      border-color: transparent;\n",
              "      border-bottom-color: var(--fill-color);\n",
              "    }\n",
              "  }\n",
              "</style>\n",
              "\n",
              "  <script>\n",
              "    async function quickchart(key) {\n",
              "      const quickchartButtonEl =\n",
              "        document.querySelector('#' + key + ' button');\n",
              "      quickchartButtonEl.disabled = true;  // To prevent multiple clicks.\n",
              "      quickchartButtonEl.classList.add('colab-df-spinner');\n",
              "      try {\n",
              "        const charts = await google.colab.kernel.invokeFunction(\n",
              "            'suggestCharts', [key], {});\n",
              "      } catch (error) {\n",
              "        console.error('Error during call to suggestCharts:', error);\n",
              "      }\n",
              "      quickchartButtonEl.classList.remove('colab-df-spinner');\n",
              "      quickchartButtonEl.classList.add('colab-df-quickchart-complete');\n",
              "    }\n",
              "    (() => {\n",
              "      let quickchartButtonEl =\n",
              "        document.querySelector('#df-c1609ceb-a739-495f-9c32-829b3c3b22ed button');\n",
              "      quickchartButtonEl.style.display =\n",
              "        google.colab.kernel.accessAllowed ? 'block' : 'none';\n",
              "    })();\n",
              "  </script>\n",
              "</div>\n",
              "\n",
              "    </div>\n",
              "  </div>\n"
            ],
            "application/vnd.google.colaboratory.intrinsic+json": {
              "type": "dataframe",
              "summary": "{\n  \"name\": \"df\",\n  \"rows\": 11,\n  \"fields\": [\n    {\n      \"column\": \"userName\",\n      \"properties\": {\n        \"dtype\": \"category\",\n        \"num_unique_values\": 3,\n        \"samples\": [\n          \"11111\",\n          1,\n          \"Pengguna Google\"\n        ],\n        \"semantic_type\": \"\",\n        \"description\": \"\"\n      }\n    },\n    {\n      \"column\": \"Rating\",\n      \"properties\": {\n        \"dtype\": \"number\",\n        \"std\": 3927.603553676801,\n        \"min\": 1.0,\n        \"max\": 11111.0,\n        \"num_unique_values\": 6,\n        \"samples\": [\n          11111.0,\n          1.988479884798848,\n          5.0\n        ],\n        \"semantic_type\": \"\",\n        \"description\": \"\"\n      }\n    },\n    {\n      \"column\": \"Review\",\n      \"properties\": {\n        \"dtype\": \"category\",\n        \"num_unique_values\": 4,\n        \"samples\": [\n          11101,\n          \"3\",\n          \"11111\"\n        ],\n        \"semantic_type\": \"\",\n        \"description\": \"\"\n      }\n    },\n    {\n      \"column\": \"Tanggal\",\n      \"properties\": {\n        \"dtype\": \"date\",\n        \"min\": \"1970-01-01 00:00:00.000000002\",\n        \"max\": \"2025-03-11 10:43:31\",\n        \"num_unique_values\": 4,\n        \"samples\": [\n          11107,\n          \"2\",\n          \"11111\"\n        ],\n        \"semantic_type\": \"\",\n        \"description\": \"\"\n      }\n    }\n  ]\n}"
            }
          },
          "metadata": {},
          "execution_count": 10
        }
      ]
    },
    {
      "cell_type": "markdown",
      "source": [
        "1. userName\n",
        "Jumlah total: 11.111\n",
        "\n",
        "Unik: 1\n",
        "\n",
        "Nilai paling umum: \"Pengguna Google\" (muncul di semua baris)\n",
        "\n",
        "Insight:\n",
        "\n",
        "Semua nama pengguna disamarkan.\n",
        "\n",
        "Kolom userName tidak informatif untuk analisis, bisa diabaikan atau dibuang.\n",
        "\n",
        "2. Rating\n",
        "Tipe data: Numerik\n",
        "\n",
        "Statistik:\n",
        "\n",
        "Rata-rata (mean): 1.99\n",
        "\n",
        "Standar deviasi: 1.43\n",
        "\n",
        "Minimum: 1\n",
        "\n",
        "Kuartil 25%: 1\n",
        "\n",
        "Median (50%): 1\n",
        "\n",
        "Kuartil 75%: 3\n",
        "\n",
        "Maksimum: 5\n",
        "\n",
        "Insight:\n",
        "\n",
        "Distribusi rating berat ke arah negatif.\n",
        "\n",
        "Median = 1 → lebih dari setengah user memberi bintang 1.\n",
        "\n",
        "Hanya sebagian kecil yang memberi bintang 4–5.\n",
        "\n",
        "3. Review\n",
        "Jumlah total review: 11.111\n",
        "\n",
        "Jumlah unik: 11.101\n",
        "\n",
        "Review paling sering muncul: \"Sangat membantu\" (muncul 3 kali)\n",
        "\n",
        "Insight:\n",
        "\n",
        "Hampir semua review berbeda → sangat beragam.\n",
        "\n",
        "Duplikasi sangat kecil (hanya 10 duplikat dari 11.111 data), bisa diabaikan atau dibersihkan jika perlu.\n",
        "\n",
        "4. Tanggal\n",
        "Jumlah tanggal unik: 11.107\n",
        "\n",
        "Tanggal paling sering muncul: 2025-03-11 10:43:31 (muncul 2 kali)\n",
        "\n",
        "Insight:\n",
        "\n",
        "Data dikumpulkan dalam waktu yang cukup variatif.\n",
        "\n",
        "Distribusi waktu cukup baik, tidak terfokus di satu hari.\n",
        "\n",
        " Kesimpulan EDA (Dataset 11.111 Review):\n",
        "Sentimen pengguna cenderung negatif, mayoritas rating bintang 1.\n",
        "\n",
        "Review sangat beragam dan organik.\n",
        "\n",
        "Data waktu dan review cukup menyebar → bagus untuk analisis lanjutan seperti time-series atau tren.\n",
        "\n",
        "Kolom userName bisa diabaikan karena tidak memberikan informasi tambahan.\n",
        "\n"
      ],
      "metadata": {
        "id": "5HJpQOhPozaA"
      }
    },
    {
      "cell_type": "code",
      "source": [
        "\n",
        "plt.figure(figsize=(8, 5))\n",
        "sns.histplot(df['Rating'], bins=5, kde=True, color='skyblue')\n",
        "plt.title('Distribusi Rating Pengguna')\n",
        "plt.xlabel('Rating')\n",
        "plt.ylabel('Jumlah Ulasan')\n",
        "plt.show()"
      ],
      "metadata": {
        "id": "EGDpUs14nAPd",
        "colab": {
          "base_uri": "https://localhost:8080/",
          "height": 487
        },
        "outputId": "062c4778-cfc4-4ab6-8b36-25f7668d44f2"
      },
      "execution_count": 11,
      "outputs": [
        {
          "output_type": "display_data",
          "data": {
            "text/plain": [
              "<Figure size 800x500 with 1 Axes>"
            ],
            "image/png": "[encoded data removed]"
          },
          "metadata": {}
        }
      ]
    },
    {
      "cell_type": "markdown",
      "source": [
        "Mayoritas rating adalah 1 bintang — Ini menandakan banyak pengguna tidak puas dengan aplikasi (kemungkinan besar review-nya negatif).\n",
        "\n",
        "Sedikit yang kasih 2–3 bintang — Artinya ulasan netral atau setengah-setengah itu jarang.\n",
        "\n",
        "Rating tinggi (4–5) juga cukup signifikan — Menunjukkan ada juga yang puas atau sangat puas."
      ],
      "metadata": {
        "id": "jqMa9SN-sc3g"
      }
    },
    {
      "cell_type": "code",
      "source": [
        "import matplotlib.pyplot as plt\n",
        "import seaborn as sns\n",
        "\n",
        "# Pastikan kolom Tanggal dalam format datetime\n",
        "df['Tanggal'] = pd.to_datetime(df['Tanggal'], errors='coerce')\n",
        "\n",
        "# Group by tahun dan rating\n",
        "rating_per_tahun = df.groupby([df['Tanggal'].dt.year, 'Rating']).size().unstack(fill_value=0)\n",
        "\n",
        "# Plot\n",
        "plt.figure(figsize=(10, 6))\n",
        "rating_per_tahun.plot(kind='bar', stacked=True, colormap='Set3', figsize=(10, 6))\n",
        "\n",
        "plt.title(\"Distribusi Rating Ulasan per Tahun\")\n",
        "plt.xlabel(\"Tahun\")\n",
        "plt.ylabel(\"Jumlah Ulasan\")\n",
        "plt.legend(title=\"Rating\", bbox_to_anchor=(1.05, 1), loc='upper left')\n",
        "plt.xticks(rotation=0)\n",
        "plt.tight_layout()\n",
        "plt.show()\n"
      ],
      "metadata": {
        "id": "XiWtJVXpq7R0",
        "colab": {
          "base_uri": "https://localhost:8080/",
          "height": 624
        },
        "outputId": "919433b0-3021-45e1-dd2a-b6bb233dc396"
      },
      "execution_count": 12,
      "outputs": [
        {
          "output_type": "display_data",
          "data": {
            "text/plain": [
              "<Figure size 1000x600 with 0 Axes>"
            ]
          },
          "metadata": {}
        },
        {
          "output_type": "display_data",
          "data": {
            "text/plain": [
              "<Figure size 1000x600 with 1 Axes>"
            ],
            "image/png": "[encoded data removed]"
          },
          "metadata": {}
        }
      ]
    },
    {
      "cell_type": "markdown",
      "source": [
        "Tahun 2020 & 2023 jadi tahun paling banyak ulasan.\n",
        "\n",
        "Rating 1 (warna biru) mendominasi setiap tahun → ini menandakan banyak ulasan negatif dari pengguna.\n",
        "\n",
        "Rating 5 (kuning) juga cukup signifikan di beberapa tahun, misalnya 2020 dan 2025.\n",
        "\n",
        "Tahun 2018 masih sedikit aktivitas (wajar, mungkin awal-awal).\n",
        "\n",
        "Tren dari 2019–2024 cukup stabil, tapi ulasan positif vs negatif masih jauh berbeda."
      ],
      "metadata": {
        "id": "UL9VHKVl4dYP"
      }
    },
    {
      "cell_type": "code",
      "source": [
        "# --- EDA: Distribusi Panjang Teks ---\n",
        "df['review_length'] = df['Review'].apply(lambda x: len(x.split()))\n",
        "\n",
        "plt.figure(figsize=(8,5))\n",
        "plt.hist(df['review_length'], bins=30, color='skyblue', edgecolor='black')\n",
        "plt.title('Distribusi Panjang Review')\n",
        "plt.xlabel('Jumlah Kata')\n",
        "plt.ylabel('Jumlah Review')\n",
        "plt.show()\n"
      ],
      "metadata": {
        "colab": {
          "base_uri": "https://localhost:8080/",
          "height": 487
        },
        "id": "g3SjCm3PT2IM",
        "outputId": "4e1e47c4-0b15-4b40-bf59-dc407c04a992"
      },
      "execution_count": 13,
      "outputs": [
        {
          "output_type": "display_data",
          "data": {
            "text/plain": [
              "<Figure size 800x500 with 1 Axes>"
            ],
            "image/png": "[encoded data removed]"
          },
          "metadata": {}
        }
      ]
    },
    {
      "cell_type": "code",
      "source": [
        "# Gabungkan semua teks review\n",
        "text_all = ' '.join(df['Review'].astype(str))\n",
        "\n",
        "# Buat Word Cloud\n",
        "wordcloud_all = WordCloud(width=1000, height=500, background_color='white', colormap='viridis').generate(text_all)\n",
        "\n",
        "# Tampilkan Word Cloud\n",
        "plt.figure(figsize=(12,6))\n",
        "plt.imshow(wordcloud_all, interpolation='bilinear')\n",
        "plt.axis('off')\n",
        "plt.title(\"Word Cloud - Semua Review\", fontsize=16)\n",
        "plt.show()\n"
      ],
      "metadata": {
        "colab": {
          "base_uri": "https://localhost:8080/",
          "height": 211
        },
        "id": "MidCg0kcRRZO",
        "outputId": "323a18bf-cb52-4d98-8a1c-5b3522d3c393"
      },
      "execution_count": 14,
      "outputs": [
        {
          "output_type": "error",
          "ename": "NameError",
          "evalue": "name 'WordCloud' is not defined",
          "traceback": [
            "\u001b[0;31m---------------------------------------------------------------------------\u001b[0m",
            "\u001b[0;31mNameError\u001b[0m                                 Traceback (most recent call last)",
            "\u001b[0;32m<ipython-input-14-60722147142a>\u001b[0m in \u001b[0;36m<cell line: 0>\u001b[0;34m()\u001b[0m\n\u001b[1;32m      3\u001b[0m \u001b[0;34m\u001b[0m\u001b[0m\n\u001b[1;32m      4\u001b[0m \u001b[0;31m# Buat Word Cloud\u001b[0m\u001b[0;34m\u001b[0m\u001b[0;34m\u001b[0m\u001b[0m\n\u001b[0;32m----> 5\u001b[0;31m \u001b[0mwordcloud_all\u001b[0m \u001b[0;34m=\u001b[0m \u001b[0mWordCloud\u001b[0m\u001b[0;34m(\u001b[0m\u001b[0mwidth\u001b[0m\u001b[0;34m=\u001b[0m\u001b[0;36m1000\u001b[0m\u001b[0;34m,\u001b[0m \u001b[0mheight\u001b[0m\u001b[0;34m=\u001b[0m\u001b[0;36m500\u001b[0m\u001b[0;34m,\u001b[0m \u001b[0mbackground_color\u001b[0m\u001b[0;34m=\u001b[0m\u001b[0;34m'white'\u001b[0m\u001b[0;34m,\u001b[0m \u001b[0mcolormap\u001b[0m\u001b[0;34m=\u001b[0m\u001b[0;34m'viridis'\u001b[0m\u001b[0;34m)\u001b[0m\u001b[0;34m.\u001b[0m\u001b[0mgenerate\u001b[0m\u001b[0;34m(\u001b[0m\u001b[0mtext_all\u001b[0m\u001b[0;34m)\u001b[0m\u001b[0;34m\u001b[0m\u001b[0;34m\u001b[0m\u001b[0m\n\u001b[0m\u001b[1;32m      6\u001b[0m \u001b[0;34m\u001b[0m\u001b[0m\n\u001b[1;32m      7\u001b[0m \u001b[0;31m# Tampilkan Word Cloud\u001b[0m\u001b[0;34m\u001b[0m\u001b[0;34m\u001b[0m\u001b[0m\n",
            "\u001b[0;31mNameError\u001b[0m: name 'WordCloud' is not defined"
          ]
        }
      ]
    },
    {
      "cell_type": "markdown",
      "source": [
        "#  Pra-pemrosesan Teks"
      ],
      "metadata": {
        "id": "wpDnt_Cq53Ns"
      }
    },
    {
      "cell_type": "code",
      "source": [
        "#Case Folding\n",
        "df['Review'] = df['Review'].str.lower()"
      ],
      "metadata": {
        "id": "zuDGmd2Z58nW"
      },
      "execution_count": null,
      "outputs": []
    },
    {
      "cell_type": "markdown",
      "source": [
        "Mengubah semua huruf jadi huruf keci"
      ],
      "metadata": {
        "id": "dZgZv2e06F_W"
      }
    },
    {
      "cell_type": "code",
      "source": [
        "#Remove Special Characters, Angka, dan Punctuation\n",
        "df['Review'] = df['Review'].apply(lambda x: re.sub(r'[^a-zA-Z\\s]', '', x))"
      ],
      "metadata": {
        "id": "Sz_IT5X06PzF"
      },
      "execution_count": null,
      "outputs": []
    },
    {
      "cell_type": "markdown",
      "source": [
        "Buang simbol, angka, dan tanda baca yang nggak penting."
      ],
      "metadata": {
        "id": "qT43nMw16mq1"
      }
    },
    {
      "cell_type": "code",
      "source": [
        "#Tokenizing\n",
        "df['tokens'] = df['Review'].apply(word_tokenize)"
      ],
      "metadata": {
        "id": "kjCsTLKn6oGy"
      },
      "execution_count": null,
      "outputs": []
    },
    {
      "cell_type": "markdown",
      "source": [
        "memecah kalimat menjadi potongan-potongan kata"
      ],
      "metadata": {
        "id": "sn3omukgCQcU"
      }
    },
    {
      "cell_type": "code",
      "source": [
        "stop_words = set(stopwords.words('indonesian'))\n",
        "df['tokens'] = df['tokens'].apply(lambda x: [word for word in x if word not in stop_words])"
      ],
      "metadata": {
        "id": "iPqaRdb57EGP"
      },
      "execution_count": null,
      "outputs": []
    },
    {
      "cell_type": "markdown",
      "source": [
        "Menghapus stopwords, yaitu kata-kata umum yang sering muncul tapi nggak punya makna penting dalam analisis"
      ],
      "metadata": {
        "id": "7kaVlsDVCbwk"
      }
    },
    {
      "cell_type": "code",
      "source": [
        "# Ambil semua kata dari seluruh token\n",
        "all_words = [word for tokens in df['tokens'] for word in tokens]\n",
        "unique_words = list(set(all_words))\n",
        "\n",
        "# Inisialisasi stemmer\n",
        "factory = StemmerFactory()\n",
        "stemmer = factory.create_stemmer()\n",
        "\n",
        "# Fungsi bantu untuk stemming\n",
        "def stem_word(word):\n",
        "    return word, stemmer.stem(word)\n",
        "\n",
        "# Stemming paralel dengan joblib\n",
        "stemmed_list = Parallel(n_jobs=-1)(delayed(stem_word)(word) for word in tqdm(unique_words))\n",
        "stemmed_dict = dict(stemmed_list)\n",
        "\n",
        "# Replace semua token pakai dictionary\n",
        "df['tokens'] = df['tokens'].swifter.apply(lambda x: [stemmed_dict[word] for word in x])"
      ],
      "metadata": {
        "id": "Vl-DEhSG7Naz"
      },
      "execution_count": null,
      "outputs": []
    },
    {
      "cell_type": "markdown",
      "source": [
        "bertujuan untuk melakukan proses stemming secara efisien pada data token dalam Bahasa Indonesia. Pertama, semua kata dari token di setiap review dikumpulkan menjadi satu list besar (all_words), kemudian diubah menjadi kumpulan kata unik (unique_words) agar tidak melakukan stemming berulang-ulang untuk kata yang sama. Selanjutnya, dibuat kamus stemming (stemmed_dict) dengan menggunakan Sastrawi Stemmer yang memetakan setiap kata unik ke bentuk dasarnya. Terakhir, setiap token dalam kolom df['tokens'] diganti dengan hasil stemming yang diambil dari kamus tersebut. Teknik ini membantu mempercepat proses stemming dan menjaga konsistensi hasil stemming di seluruh dataset."
      ],
      "metadata": {
        "id": "pVFeBPXPUDXW"
      }
    },
    {
      "cell_type": "markdown",
      "source": [
        "# ekstraksi fitur dan pelabelan data"
      ],
      "metadata": {
        "id": "n-xXp3plPlgP"
      }
    },
    {
      "cell_type": "markdown",
      "source": [
        "Fungsi ini menghasilkan teks yang lebih bersih dan representatif untuk analisis lebih lanjut seperti klasifikasi atau ekstraksi fitur."
      ],
      "metadata": {
        "id": "0gNNs5bpUcSh"
      }
    },
    {
      "cell_type": "code",
      "source": [
        "# Label berdasarkan nilai polaritas TextBlob\n",
        "def label_textblob(polarity):\n",
        "    if polarity > 0:\n",
        "        return 'positif'\n",
        "    elif polarity < 0:\n",
        "        return 'negatif'\n",
        "    else:\n",
        "        return 'netral'\n",
        "\n",
        "df['textblob_label'] = df['textblob_polarity'].apply(label_textblob)\n",
        "\n",
        "# Label berdasarkan nilai compound VADER\n",
        "def label_vader(score):\n",
        "    if score >= 0.05:\n",
        "        return 'positif'\n",
        "    elif score <= -0.05:\n",
        "        return 'negatif'\n",
        "    else:\n",
        "        return 'netral'\n",
        "\n",
        "df['vader_label'] = df['vader_compound'].apply(label_vader)\n"
      ],
      "metadata": {
        "id": "GD3mXE0jQNdt"
      },
      "execution_count": null,
      "outputs": []
    },
    {
      "cell_type": "code",
      "source": [
        "# 1. Gabungkan token hasil preprocessing\n",
        "df['cleaned_review'] = df['tokens'].apply(lambda x: ' '.join(x))\n",
        "\n",
        "# 2. Analisis sentimen\n",
        "df['textblob_polarity'] = df['cleaned_review'].apply(get_textblob_polarity)\n",
        "df['vader_compound'] = df['cleaned_review'].apply(get_vader_sentiment)\n"
      ],
      "metadata": {
        "id": "DucfmlZoBrvo"
      },
      "execution_count": null,
      "outputs": []
    },
    {
      "cell_type": "code",
      "source": [
        "df[['Review', 'cleaned_review', 'textblob_polarity', 'textblob_label', 'vader_compound', 'vader_label']].head(50)\n"
      ],
      "metadata": {
        "id": "0RmX7oy7D0EB"
      },
      "execution_count": null,
      "outputs": []
    },
    {
      "cell_type": "markdown",
      "source": [
        "mengaktifkan fitur progress bar pada pandas.apply() sehingga saat fungsi preprocess_text diterapkan ke setiap review (df['Review']). Proses ini cukup berat karena melakukan normalisasi teks, tokenisasi, stopword removal, dan stemming untuk 11.111 baris data, yang terlihat memakan waktu sekitar 2,5 jam. Setelah teks dibersihkan dan disimpan dalam kolom cleaned_review, data diberi label sentimen: negatif (rating ≤ 2), netral (rating = 3), dan positif (rating ≥ 4). Label ini kemudian diencoding secara numerik dengan LabelEncoder agar bisa digunakan oleh model klasifikasi. Terakhir, hasil distribusi label ditampilkan, menunjukkan bahwa mayoritas review bersentimen negatif, sesuai dengan rata-rata rating rendah yang sebelumnya ditemukan di EDA.\n",
        "\n",
        "\n",
        "\n",
        "\n",
        "*  Dataset memiliki tiga kelas.\n",
        "\n",
        "\n",
        "\n",
        "\n",
        "\n",
        "\n",
        "\n"
      ],
      "metadata": {
        "id": "5bEbtecYVGiB"
      }
    },
    {
      "cell_type": "markdown",
      "source": [
        "# modeling"
      ],
      "metadata": {
        "id": "5e07uEBBRbtR"
      }
    },
    {
      "cell_type": "markdown",
      "source": [
        "##  SKEMA PELATIHAN 1: LSTM + EMBEDDING\n",
        "\n",
        "\n",
        "\n",
        "*   Menggunakan algoritma deep learning.\n",
        "\n"
      ],
      "metadata": {
        "id": "zLgYwX3ekpqO"
      }
    },
    {
      "cell_type": "code",
      "source": [
        "class TargetAccuracyCallback(Callback):\n",
        "    def __init__(self, target_acc=0.92):\n",
        "        super().__init__()\n",
        "        self.target_acc = target_acc\n",
        "\n",
        "    def on_epoch_end(self, epoch, logs=None):\n",
        "        val_acc = logs.get('val_accuracy')\n",
        "        if val_acc is not None:\n",
        "            if val_acc >= self.target_acc:\n",
        "                print(f\"\\n🎉 Target val_accuracy {self.target_acc*100:.2f}% tercapai di epoch {epoch+1}, menghentikan training.\")\n",
        "                self.model.stop_training = True\n"
      ],
      "metadata": {
        "id": "RnkdN-XhVuRc"
      },
      "execution_count": null,
      "outputs": []
    },
    {
      "cell_type": "code",
      "source": [
        "tokenizer = Tokenizer(num_words=20000)\n",
        "tokenizer.fit_on_texts(df['cleaned_review'])\n",
        "X_seq = tokenizer.texts_to_sequences(df['cleaned_review'])\n",
        "X_seq = pad_sequences(X_seq, maxlen=100)\n"
      ],
      "metadata": {
        "id": "w8A9lrVXqmHl"
      },
      "execution_count": null,
      "outputs": []
    },
    {
      "cell_type": "code",
      "source": [
        "X_train1, X_test1, y_train1, y_test1 = train_test_split(\n",
        "    X_seq, df['encoded_label'], test_size=0.2, stratify=df['encoded_label'], random_state=42\n",
        ")"
      ],
      "metadata": {
        "id": "5iD6tqUZQ5tp"
      },
      "execution_count": null,
      "outputs": []
    },
    {
      "cell_type": "code",
      "source": [
        "#Model LSTM\n",
        "model_lstm = Sequential([\n",
        "    Embedding(20000, 128, input_length=100),\n",
        "    LSTM(128, dropout=0.7, recurrent_dropout=0.2),\n",
        "    Dense(64, activation='relu'),\n",
        "    BatchNormalization(),\n",
        "    Dropout(0.5),\n",
        "    Dense(3, activation='softmax')\n",
        "])\n",
        "\n",
        "model_lstm.compile(optimizer='adam', loss='sparse_categorical_crossentropy', metrics=['accuracy'])\n",
        "\n",
        "history_lstm = model_lstm.fit(\n",
        "    X_train1, y_train1,\n",
        "    validation_data=(X_test1, y_test1),\n",
        "    epochs=30,\n",
        "    batch_size=64,\n",
        "    callbacks=[\n",
        "        EarlyStopping(monitor='val_accuracy', patience=3, restore_best_weights=True),\n",
        "        ModelCheckpoint('best_lstm.h5', monitor='val_accuracy', save_best_only=True),\n",
        "        TargetAccuracyCallback(target_acc=0.95)\n",
        "    ]\n",
        ")\n"
      ],
      "metadata": {
        "id": "uQUDdVBBRjYU"
      },
      "execution_count": null,
      "outputs": []
    },
    {
      "cell_type": "markdown",
      "source": [
        "Berikut adalah penjelasan per bagian dari proses training model kamu berdasarkan grafik dan hasil epoch:\n",
        "\n",
        "---\n",
        "\n",
        "###  **Initial Performance (Epoch 1)**\n",
        "\n",
        "- **Training Accuracy: 70.85%**, **Validation Accuracy: 77.37%**\n",
        "- Ini menunjukkan bahwa model sudah cukup baik di awal, bahkan **val accuracy lebih tinggi daripada train**, yang cukup tidak biasa.\n",
        "- Kemungkinan penyebab:\n",
        "  - **Model arsitekturnya cocok** dengan pola dalam data.\n",
        "  - **Inisialisasi bobot awal (initial weights)** cukup kuat.\n",
        "  - Tapi perlu waspada, karena val acc > train acc bisa juga disebabkan oleh **data leakage** (misalnya data testing yang terlalu mirip dengan training).\n",
        "\n",
        "---\n",
        "\n",
        "###  **Rapid Improvement Phase (Epoch 2–3)**\n",
        "\n",
        "- Train acc naik dari **79.15% ➝ 81.62%**, artinya model **belajar dengan cepat**.\n",
        "- Val acc juga meningkat (meskipun lebih pelan): **78.45% ➝ 79.49%**\n",
        "- Ini fase **pembelajaran aktif**, di mana model masih generalisasi dengan baik.\n",
        "- **Gap antara train dan val tidak terlalu besar**, artinya belum ada overfitting.\n",
        "\n",
        "---\n",
        "\n",
        "###  **Peak Performance (Epoch 4)**\n",
        "\n",
        "- **Train Accuracy: 82.68%**, **Val Accuracy: 79.26%**\n",
        "- **Train Loss: 0.4825**, **Val Loss: 0.6093**\n",
        "- Ini adalah titik **performansi paling seimbang**, karena model:\n",
        "  - Memiliki akurasi tinggi pada kedua set.\n",
        "  - Loss pada val dan train cukup dekat dan menunjukkan **konvergensi**.\n",
        "- Bisa dianggap **epoch terbaik sebelum overfitting muncul**.\n",
        "\n",
        "---\n",
        "\n",
        "###  **Emerging Overfitting (Epochs 5–6)**\n",
        "\n",
        "- **Train Accuracy meningkat terus** (84.61% ➝ 86.24%)\n",
        "- Tapi **Validation Accuracy stagnan bahkan menurun** (78.36% ➝ 78.00%)\n",
        "- **Train Loss menurun**, tapi **Val Loss naik** → tanda klasik **overfitting**\n",
        "- Artinya: model terlalu fokus ke data training dan mulai **gagal generalisasi ke data baru**\n",
        "\n",
        "---\n",
        "\n",
        "###  **Kesimpulan Insight**\n",
        "\n",
        "- Model menunjukkan potensi sangat baik dan cocok untuk task ini.\n",
        "- Namun, performa terbaik hanya sampai **epoch 3–4**, setelah itu mulai overfit.\n",
        "- Solusi:\n",
        "  - Terapkan **early stopping** di sekitar epoch ke-3.\n",
        "  - Tambahkan **Dropout/L2 Regularization**.\n",
        "  - Atau pertimbangkan fine-tuning **pretrained model** seperti IndoBERT untuk performa lebih stabil.\n",
        "\n",
        "Kalau kamu mau, aku bisa bantu hitung skor evaluasi lebih lanjut (precision, recall, F1) atau buatkan confusion matrix-nya juga. Mau lanjut ke situ?"
      ],
      "metadata": {
        "id": "jMOdrHbFiO6t"
      }
    },
    {
      "cell_type": "code",
      "source": [
        "\n",
        "plt.figure(figsize=(10, 4))\n",
        "plt.subplot(1, 2, 1)\n",
        "plt.plot(history_lstm.history['accuracy'], label='Train Accuracy')\n",
        "plt.plot(history_lstm.history['val_accuracy'], label='Val Accuracy')\n",
        "plt.title('Accuracy per Epoch')\n",
        "plt.xlabel('Epoch')\n",
        "plt.ylabel('Accuracy')\n",
        "plt.legend()\n",
        "\n",
        "# Plot Loss\n",
        "plt.subplot(1, 2, 2)\n",
        "plt.plot(history_lstm.history['loss'], label='Train Loss')\n",
        "plt.plot(history_lstm.history['val_loss'], label='Val Loss')\n",
        "plt.title('Loss per Epoch')\n",
        "plt.xlabel('Epoch')\n",
        "plt.ylabel('Loss')\n",
        "plt.legend()\n",
        "\n",
        "plt.tight_layout()\n",
        "plt.show()\n"
      ],
      "metadata": {
        "id": "U1AytNAIZhum"
      },
      "execution_count": null,
      "outputs": []
    },
    {
      "cell_type": "markdown",
      "source": [
        "Insight dari Grafik (Accuracy & Loss per Epoch)\n",
        "\n",
        "1. Akurasi Training meningkat stabil dari epoch 0 hingga 5 (0.73 ➝ 0.86), menandakan model belajar dari data dengan baik.\n",
        "\n",
        "2. Val Accuracy stagnan & mulai menurun sejak epoch ke-3, dari 0.79 ➝ 0.78. Ini indikasi awal overfitting.\n",
        "\n",
        "3. Train Loss terus turun, tapi Val Loss mulai naik setelah epoch ke-2. Ini semakin memperkuat dugaan bahwa model overfitting setelah titik tersebut.\n",
        "\n",
        "4. Epoch optimal kemungkinan besar ada di epoch ke-2 atau ke-3, karena di titik itu model masih seimbang antara belajar dan generalisasi.\n",
        "\n"
      ],
      "metadata": {
        "id": "ORrRWW8uhUrY"
      }
    },
    {
      "cell_type": "markdown",
      "source": [
        "##  SKEMA PELATIHAN 2: CNN + TF-IDF\n",
        "\n",
        "\n",
        "\n",
        "*   Menggunakan algoritma deep learning.\n",
        "\n"
      ],
      "metadata": {
        "id": "hDvEgAZwk8oN"
      }
    },
    {
      "cell_type": "code",
      "source": [
        "tfidf = TfidfVectorizer(max_features=20000)\n",
        "X_tfidf = tfidf.fit_transform(df['cleaned_review']).toarray()\n",
        "\n",
        "X_train2, X_test2, y_train2, y_test2 = train_test_split(\n",
        "    X_tfidf, df['encoded_label'], test_size=0.2, stratify=df['encoded_label'], random_state=42\n",
        ")"
      ],
      "metadata": {
        "id": "N8fPLjxquasT"
      },
      "execution_count": null,
      "outputs": []
    },
    {
      "cell_type": "code",
      "source": [
        "tfidf = TfidfVectorizer(max_features=20000)\n",
        "X_tfidf = tfidf.fit_transform(df['cleaned_review']).toarray()\n",
        "\n",
        "X_train2, X_test2, y_train2, y_test2 = train_test_split(\n",
        "    X_tfidf, df['encoded_label'], test_size=0.2, stratify=df['encoded_label'], random_state=42\n",
        ")\n",
        "\n",
        "X_train2 = X_train2.reshape(X_train2.shape[0], X_tfidf.shape[1], 1)\n",
        "X_test2 = X_test2.reshape(X_test2.shape[0], X_tfidf.shape[1], 1)\n",
        "\n",
        "model_cnn = Sequential([\n",
        "    Conv1D(128, 5, activation='relu', input_shape=(X_tfidf.shape[1], 1)),\n",
        "    BatchNormalization(),\n",
        "    GlobalMaxPooling1D(),\n",
        "    Dense(64, activation='relu'),\n",
        "    BatchNormalization,\n",
        "    Dropout(0.5),\n",
        "    Dense(3, activation='softmax')\n",
        "])\n",
        "model_cnn.compile(optimizer='adam', loss='sparse_categorical_crossentropy', metrics=['accuracy'])\n",
        "\n",
        "history_cnn = model_cnn.fit(\n",
        "    X_train2, y_train2,\n",
        "    validation_data=(X_test2, y_test2),\n",
        "    epochs=10,\n",
        "    batch_size=64,\n",
        "    callbacks=[\n",
        "        EarlyStopping(monitor='val_accuracy', patience=3, restore_best_weights=True),\n",
        "        ModelCheckpoint('best_cnn.h5', monitor='val_accuracy', save_best_only=True),\n",
        "         TargetAccuracyCallback(target_acc=0.95)\n",
        "    ]\n",
        ")\n"
      ],
      "metadata": {
        "id": "88PtfvHclCpd"
      },
      "execution_count": null,
      "outputs": []
    },
    {
      "cell_type": "code",
      "source": [
        "\n",
        "plt.figure(figsize=(10, 4))\n",
        "plt.subplot(1, 2, 1)\n",
        "plt.plot(history_cnn.history['accuracy'], label='Train Accuracy')\n",
        "plt.plot(history_cnn.history['val_accuracy'], label='Val Accuracy')\n",
        "plt.title('Accuracy per Epoch')\n",
        "plt.xlabel('Epoch')\n",
        "plt.ylabel('Accuracy')\n",
        "plt.legend()\n",
        "\n",
        "# Plot Loss\n",
        "plt.subplot(1, 2, 2)\n",
        "plt.plot(history_cnn.history['loss'], label='Train Loss')\n",
        "plt.plot(history_cnn.history['val_loss'], label='Val Loss')\n",
        "plt.title('Loss per Epoch')\n",
        "plt.xlabel('Epoch')\n",
        "plt.ylabel('Loss')\n",
        "plt.legend()\n",
        "\n",
        "plt.tight_layout()\n",
        "plt.show()\n"
      ],
      "metadata": {
        "id": "MuPINOqPdvw9"
      },
      "execution_count": null,
      "outputs": []
    },
    {
      "cell_type": "markdown",
      "source": [
        "## SKEMA PELATIHAN 3: INDOBERT\n",
        "\n",
        "\n",
        "\n",
        "*   Menggunakan algoritma deep learning.\n",
        "\n"
      ],
      "metadata": {
        "id": "kM_koy14lUWU"
      }
    },
    {
      "cell_type": "code",
      "source": [
        "bert_tokenizer = BertTokenizer.from_pretrained('indobenchmark/indobert-base-p1')\n",
        "X_bert = bert_tokenizer(\n",
        "    df['cleaned_review'].tolist(),\n",
        "    truncation=True,\n",
        "    padding=True,\n",
        "    max_length=100,\n",
        "    return_tensors='tf'\n",
        ")\n",
        "\n",
        "X_train3, X_test3, y_train3, y_test3 = train_test_split(\n",
        "    X_bert['input_ids'],\n",
        "    to_categorical(df['encoded_label']),\n",
        "    test_size=0.2,\n",
        "    stratify=df['encoded_label'],\n",
        "    random_state=42\n",
        ")"
      ],
      "metadata": {
        "id": "FFn0NbAjuqb1"
      },
      "execution_count": null,
      "outputs": []
    },
    {
      "cell_type": "code",
      "source": [
        "\n",
        "\n",
        "model_bert = TFBertForSequenceClassification.from_pretrained(\n",
        "    'indobenchmark/indobert-base-p1',\n",
        "    num_labels=3\n",
        ")\n",
        "\n",
        "model_bert.compile(\n",
        "    optimizer=tf.keras.optimizers.Adam(learning_rate=2e-5),\n",
        "    loss='categorical_crossentropy',\n",
        "    metrics=['accuracy']\n",
        ")\n",
        "history_bert = model_bert.fit(\n",
        "    X_train3, y_train3,\n",
        "    validation_data=(X_test3, y_test3),\n",
        "    epochs=3,\n",
        "    batch_size=16,\n",
        "    callbacks=[\n",
        "        EarlyStopping(monitor='val_accuracy', patience=2, restore_best_weights=True),\n",
        "        ModelCheckpoint('best_bert', monitor='val_accuracy', save_best_only=True),\n",
        "         TargetAccuracyCallback(target_acc=0.95)\n",
        "    ]\n",
        ")\n"
      ],
      "metadata": {
        "id": "bSlzTavylYRa"
      },
      "execution_count": null,
      "outputs": []
    },
    {
      "cell_type": "markdown",
      "source": [
        "## 6. EVALUASI SEMUA MODEL"
      ],
      "metadata": {
        "id": "qkHZOPKRtETo"
      }
    },
    {
      "cell_type": "code",
      "source": [
        "def evaluate_model(model, X_train, X_test, y_train, y_test, is_bert=False):\n",
        "    if is_bert:\n",
        "        y_train = np.argmax(y_train, axis=1)\n",
        "        y_test = n    p.argmax(y_test, axis=1)\n",
        "        train_acc = model.evaluate(X_train, to_categorical(y_train), verbose=0)[1]\n",
        "        test_acc = model.evaluate(X_test, to_categorical(y_test), verbose=0)[1]\n",
        "    else:\n",
        "        train_acc = model.evaluate(X_train, y_train, verbose=0)[1]\n",
        "        test_acc = model.evaluate(X_test, y_test, verbose=0)[1]\n",
        "    return train_acc, test_acc\n",
        "\n",
        "results = {\n",
        "    'Model': ['LSTM', 'CNN+TF-IDF', 'IndoBERT'],\n",
        "    'Training Accuracy': [\n",
        "        evaluate_model(model_lstm, X_train1, X_test1, y_train1, y_test1)[0],\n",
        "        evaluate_model(model_cnn, X_train2, X_test2, y_train2, y_test2)[0],\n",
        "        evaluate_model(model_bert, X_train3, X_test3, y_train3, y_test3, is_bert=True)[0]\n",
        "    ],\n",
        "    'Testing Accuracy': [\n",
        "        evaluate_model(model_lstm, X_train1, X_test1, y_train1, y_test1)[1],\n",
        "        evaluate_model(model_cnn, X_train2, X_test2, y_train2, y_test2)[1],\n",
        "        evaluate_model(model_bert, X_train3, X_test3, y_train3, y_test3, is_bert=True)[1]\n",
        "    ]\n",
        "}\n",
        "\n",
        "pd.set_option('display.float_format', lambda x: '%.4f' % x)\n",
        "results_df = pd.DataFrame(results)\n",
        "print(\"\\n=================================\")\n",
        "print(\"    HASIL AKURASI FINAL\")\n",
        "print(\"=================================\")\n",
        "print(results_df)\n"
      ],
      "metadata": {
        "id": "NXia8A2Dlddo"
      },
      "execution_count": null,
      "outputs": []
    },
    {
      "cell_type": "markdown",
      "source": [
        "## 7. INFERENCE CONTOH"
      ],
      "metadata": {
        "id": "6R9MsnQutran"
      }
    },
    {
      "cell_type": "code",
      "source": [
        "def predict_sentiment(text, model, tokenizer, is_bert=False):\n",
        "    text_cleaned = preprocess_text(text)\n",
        "    if is_bert:\n",
        "        inputs = bert_tokenizer(text_cleaned, return_tensors='tf', truncation=True, padding=True, max_length=100)\n",
        "        pred = model.predict(dict(inputs)).logits\n",
        "    else:\n",
        "        seq = tokenizer.texts_to_sequences([text_cleaned])\n",
        "        padded = pad_sequences(seq, maxlen=100)\n",
        "        pred = model.predict(padded)\n",
        "    label_idx = np.argmax(pred)\n",
        "    return label_encoder.inverse_transform([label_idx])[0]\n",
        "\n",
        "# Contoh inference\n",
        "sample_texts = [\n",
        "    \"Aplikasinya sangat lambat dan sering error\",\n",
        "    \"Lumayan bagus tapi ada bug minor\",\n",
        "    \"Sangat puas dengan update terbaru!\"\n",
        "]\n",
        "\n",
        "print(\"\\n=================================\")\n",
        "print(\"      CONTOH INFERENCE\")\n",
        "print(\"=================================\")\n",
        "for text in sample_texts:\n",
        "    print(f\"\\nText: '{text}'\")\n",
        "    print(f\"LSTM Prediction: {predict_sentiment(text, model_lstm, tokenizer)}\")\n",
        "    print(f\"CNN Prediction: {predict_sentiment(text, model_cnn, tfidf)}\")\n",
        "    print(f\"BERT Prediction: {predict_sentiment(text, model_bert, bert_tokenizer, is_bert=True)}\")"
      ],
      "metadata": {
        "id": "IcEeatictuGH"
      },
      "execution_count": null,
      "outputs": []
    }
  ]
}